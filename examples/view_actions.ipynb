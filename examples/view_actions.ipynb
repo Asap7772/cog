{
 "cells": [
  {
   "cell_type": "code",
   "execution_count": null,
   "source": [
    "paths = []\n",
    "num_viewpoints = 5\n",
    "print('Pick Kitchen 8052 Task 2 (put in pot with negatives)')\n",
    "prior = [\n",
    "    '/home/asap7772/asap7772/real_data_kitchen/bridge_data_numpy/toykitchen2_room8052/put_knife_on_cutting_board/out.npy',\n",
    "    '/home/asap7772/asap7772/real_data_kitchen/bridge_data_numpy/toykitchen2_room8052/turn_lever_vertical_to_front/out.npy',\n",
    "    '/home/asap7772/asap7772/real_data_kitchen/bridge_data_numpy/toykitchen2_room8052/put_pot_or_pan_in_sink/out.npy',\n",
    "    '/home/asap7772/asap7772/real_data_kitchen/bridge_data_numpy/toykitchen2_room8052/put_pot_or_pan_on_stove/out.npy',\n",
    "    '/home/asap7772/asap7772/real_data_kitchen/bridge_data_numpy/toykitchen2_room8052/flip_orange_pot_upright_in_sink/out.npy'\n",
    "]\n",
    "\n",
    "for p in prior:\n",
    "    paths.append((p, None))\n",
    "\n",
    "task = [\n",
    "    ('/home/asap7772/asap7772/real_data_kitchen/bridge_data_numpy/toykitchen2_room8052/put_carrot_in_pot_or_pan/out.npy', '/home/asap7772/asap7772/real_data_kitchen/bridge_data_numpy/toykitchen2_room8052/put_carrot_in_pot_or_pan/out_rew.npy'),\n",
    "    ('/home/asap7772/asap7772/real_data_kitchen/bridge_data_numpy/toykitchen2_room8052/put_potato_in_pot_or_pan/out.npy', '/home/asap7772/asap7772/real_data_kitchen/bridge_data_numpy/toykitchen2_room8052/put_potato_in_pot_or_pan/out_rew.npy'),\n",
    "    ('/home/asap7772/asap7772/real_data_kitchen/bridge_data_numpy/toykitchen2_room8052/put_strawberry_in_pot/out.npy', '/home/asap7772/asap7772/real_data_kitchen/bridge_data_numpy/toykitchen2_room8052/put_strawberry_in_pot/out_rew.npy'),\n",
    "    ('/home/asap7772/asap7772/real_data_kitchen/bridge_data_numpy/toykitchen2_room8052/put_sweet_potato_in_pot/out.npy', '/home/asap7772/asap7772/real_data_kitchen/bridge_data_numpy/toykitchen2_room8052/put_sweet_potato_in_pot/out_rew.npy'),\n",
    "]\n",
    "for t in task:\n",
    "    paths.append(t)"
   ],
   "outputs": [],
   "metadata": {}
  },
  {
   "cell_type": "code",
   "execution_count": null,
   "source": [
    "from rlkit.data_management.load_buffer_real import *\n",
    "replay_buffer = get_buffer(observation_key='image', color_jitter = True, num_viewpoints=num_viewpoints, action_shape=(7,))\n",
    "for path, rew_path in paths:\n",
    "    print(path)\n",
    "    load_path_kitchen(path, rew_path, replay_buffer, terminals=True)"
   ],
   "outputs": [],
   "metadata": {}
  },
  {
   "cell_type": "code",
   "execution_count": null,
   "source": [],
   "outputs": [],
   "metadata": {}
  }
 ],
 "metadata": {
  "orig_nbformat": 4,
  "language_info": {
   "name": "python"
  }
 },
 "nbformat": 4,
 "nbformat_minor": 2
}